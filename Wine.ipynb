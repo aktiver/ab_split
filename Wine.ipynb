{
 "cells": [
  {
   "attachments": {},
   "cell_type": "markdown",
   "id": "10f34745",
   "metadata": {},
   "source": [
    "## Wine classifier with MLFlow, MINIO, and Seldon\n",
    "\n",
    "In this workshop, we will run an ML Flow model, save the artefacts to MinIO, and create a v2 protocol SeldonDeployment via the SDK\n",
    "\n",
    "We will follow these steps:\n",
    "1. Create environment, install libraries, import methods\n",
    "2. Run experiment and train model in MLFlow\n",
    "3. Conda pack the environment\n",
    "4. Push artefacts to MinIO\n",
    "5. Deploy via the SDK\n",
    "6. [Optional] Add model metadata via the SDK\n",
    "7. [Optional] Create a new MLFlow run with different hyperparametes, and deploy a canary model\n",
    "8. [Optional] Train and deploy a drift detector\n",
    "9. [Optional] Train and deploy an explainer"
   ]
  },
  {
   "cell_type": "markdown",
   "id": "a0c6b764",
   "metadata": {},
   "source": [
    "### 1. Create environment, install libraries, import methods"
   ]
  },
  {
   "cell_type": "markdown",
   "id": "52147ab0",
   "metadata": {},
   "source": [
    "In your terminal, create a new virtual environment:\n",
    "`conda create -n mlflow-wine python=3.8`\n",
    "\n",
    "Activate the new environment:\n",
    "`conda activate mlflow-wine`\n",
    "\n",
    "Check that you are in the correct environment"
   ]
  },
  {
   "cell_type": "code",
   "execution_count": null,
   "id": "e28d6d04",
   "metadata": {},
   "outputs": [],
   "source": []
  },
  {
   "cell_type": "code",
   "execution_count": 2,
   "id": "3cd128ee",
   "metadata": {},
   "outputs": [
    {
     "name": "stdout",
     "output_type": "stream",
     "text": [
      "# conda environments:\n",
      "#\n",
      "base                     /Users/josh/opt/anaconda3\n",
      "ansible-learn            /Users/josh/opt/anaconda3/envs/ansible-learn\n",
      "beyond-limits            /Users/josh/opt/anaconda3/envs/beyond-limits\n",
      "core-v2                  /Users/josh/opt/anaconda3/envs/core-v2\n",
      "da-mlserver              /Users/josh/opt/anaconda3/envs/da-mlserver\n",
      "data-science             /Users/josh/opt/anaconda3/envs/data-science\n",
      "deploy-advance           /Users/josh/opt/anaconda3/envs/deploy-advance\n",
      "deploy-docs              /Users/josh/opt/anaconda3/envs/deploy-docs\n",
      "deploy-env               /Users/josh/opt/anaconda3/envs/deploy-env\n",
      "deployboo                /Users/josh/opt/anaconda3/envs/deployboo\n",
      "firstpipe                /Users/josh/opt/anaconda3/envs/firstpipe\n",
      "fraud                    /Users/josh/opt/anaconda3/envs/fraud\n",
      "jwt-test                 /Users/josh/opt/anaconda3/envs/jwt-test\n",
      "manufactoring-workshop     /Users/josh/opt/anaconda3/envs/manufactoring-workshop\n",
      "mlflow                   /Users/josh/opt/anaconda3/envs/mlflow\n",
      "mlflow-22e9c2b09148e32b60e0088635092d90ca2900c0     /Users/josh/opt/anaconda3/envs/mlflow-22e9c2b09148e32b60e0088635092d90ca2900c0\n",
      "mlflow-8dcff9dffe20ef7df93f638f77ce4b6257ec7b18     /Users/josh/opt/anaconda3/envs/mlflow-8dcff9dffe20ef7df93f638f77ce4b6257ec7b18\n",
      "mlflow-ab             *  /Users/josh/opt/anaconda3/envs/mlflow-ab\n",
      "mlflow-d9cde89856a2e663ee80b5487bbf43e795fdffc5     /Users/josh/opt/anaconda3/envs/mlflow-d9cde89856a2e663ee80b5487bbf43e795fdffc5\n",
      "mlflow-pipeline          /Users/josh/opt/anaconda3/envs/mlflow-pipeline\n",
      "mlflow-wine              /Users/josh/opt/anaconda3/envs/mlflow-wine\n",
      "mlserver                 /Users/josh/opt/anaconda3/envs/mlserver\n",
      "mlserver-dev             /Users/josh/opt/anaconda3/envs/mlserver-dev\n",
      "mlserver-tokenizer       /Users/josh/opt/anaconda3/envs/mlserver-tokenizer\n",
      "modern2                  /Users/josh/opt/anaconda3/envs/modern2\n",
      "news                     /Users/josh/opt/anaconda3/envs/news\n",
      "nlp-ratings-38           /Users/josh/opt/anaconda3/envs/nlp-ratings-38\n",
      "odsc                     /Users/josh/opt/anaconda3/envs/odsc\n",
      "odsc-workshop            /Users/josh/opt/anaconda3/envs/odsc-workshop\n",
      "onnx                     /Users/josh/opt/anaconda3/envs/onnx\n",
      "onnx8                    /Users/josh/opt/anaconda3/envs/onnx8\n",
      "pipe37                   /Users/josh/opt/anaconda3/envs/pipe37\n",
      "ratings-v2               /Users/josh/opt/anaconda3/envs/ratings-v2\n",
      "scale-test               /Users/josh/opt/anaconda3/envs/scale-test\n",
      "scrapy-wapey             /Users/josh/opt/anaconda3/envs/scrapy-wapey\n",
      "second-order             /Users/josh/opt/anaconda3/envs/second-order\n",
      "seldon-alibi             /Users/josh/opt/anaconda3/envs/seldon-alibi\n",
      "seldon-workshop-fraud     /Users/josh/opt/anaconda3/envs/seldon-workshop-fraud\n",
      "swirl-311                /Users/josh/opt/anaconda3/envs/swirl-311\n",
      "swirl-39                 /Users/josh/opt/anaconda3/envs/swirl-39\n",
      "swirl2                   /Users/josh/opt/anaconda3/envs/swirl2\n",
      "test                     /Users/josh/opt/anaconda3/envs/test\n",
      "tmp-wine                 /Users/josh/opt/anaconda3/envs/tmp-wine\n",
      "tutorial                 /Users/josh/opt/anaconda3/envs/tutorial\n",
      "wanita                   /Users/josh/opt/anaconda3/envs/wanita\n",
      "wine                     /Users/josh/opt/anaconda3/envs/wine\n",
      "\n"
     ]
    }
   ],
   "source": [
    "!conda env list"
   ]
  },
  {
   "cell_type": "markdown",
   "id": "39e0e720",
   "metadata": {},
   "source": [
    "Install required dependencies into your environment"
   ]
  },
  {
   "cell_type": "code",
   "execution_count": 3,
   "id": "8660ef7e",
   "metadata": {},
   "outputs": [
    {
     "name": "stdout",
     "output_type": "stream",
     "text": [
      "Requirement already satisfied: minio in /Users/josh/opt/anaconda3/envs/tmp-wine/lib/python3.8/site-packages (7.1.11)\n",
      "Requirement already satisfied: certifi in /Users/josh/opt/anaconda3/envs/tmp-wine/lib/python3.8/site-packages (from minio) (2022.6.15)\n",
      "Requirement already satisfied: urllib3 in /Users/josh/opt/anaconda3/envs/tmp-wine/lib/python3.8/site-packages (from minio) (1.26.12)\n",
      "Requirement already satisfied: conda-pack in /Users/josh/opt/anaconda3/envs/tmp-wine/lib/python3.8/site-packages (0.6.0)\n",
      "Requirement already satisfied: setuptools in /Users/josh/opt/anaconda3/envs/tmp-wine/lib/python3.8/site-packages (from conda-pack) (59.8.0)\n",
      "Requirement already satisfied: mlserver in /Users/josh/opt/anaconda3/envs/tmp-wine/lib/python3.8/site-packages (1.1.0)\n",
      "Requirement already satisfied: protobuf in /Users/josh/opt/anaconda3/envs/tmp-wine/lib/python3.8/site-packages (from mlserver) (4.21.6)\n",
      "Requirement already satisfied: grpcio in /Users/josh/opt/anaconda3/envs/tmp-wine/lib/python3.8/site-packages (from mlserver) (1.48.1)\n",
      "Requirement already satisfied: pandas in /Users/josh/opt/anaconda3/envs/tmp-wine/lib/python3.8/site-packages (from mlserver) (1.4.4)\n",
      "Requirement already satisfied: py-grpc-prometheus in /Users/josh/opt/anaconda3/envs/tmp-wine/lib/python3.8/site-packages (from mlserver) (0.7.0)\n",
      "Requirement already satisfied: starlette-exporter in /Users/josh/opt/anaconda3/envs/tmp-wine/lib/python3.8/site-packages (from mlserver) (0.14.0)\n",
      "Requirement already satisfied: uvicorn in /Users/josh/opt/anaconda3/envs/tmp-wine/lib/python3.8/site-packages (from mlserver) (0.18.3)\n",
      "Requirement already satisfied: uvloop in /Users/josh/opt/anaconda3/envs/tmp-wine/lib/python3.8/site-packages (from mlserver) (0.17.0)\n",
      "Requirement already satisfied: fastapi in /Users/josh/opt/anaconda3/envs/tmp-wine/lib/python3.8/site-packages (from mlserver) (0.83.0)\n",
      "Requirement already satisfied: click in /Users/josh/opt/anaconda3/envs/tmp-wine/lib/python3.8/site-packages (from mlserver) (8.1.3)\n",
      "Requirement already satisfied: numpy in /Users/josh/opt/anaconda3/envs/tmp-wine/lib/python3.8/site-packages (from mlserver) (1.22.4)\n",
      "Requirement already satisfied: aiokafka in /Users/josh/opt/anaconda3/envs/tmp-wine/lib/python3.8/site-packages (from mlserver) (0.7.2)\n",
      "Requirement already satisfied: python-dotenv in /Users/josh/opt/anaconda3/envs/tmp-wine/lib/python3.8/site-packages (from mlserver) (0.21.0)\n",
      "Requirement already satisfied: kafka-python>=2.0.0 in /Users/josh/opt/anaconda3/envs/tmp-wine/lib/python3.8/site-packages (from aiokafka->mlserver) (2.0.2)\n",
      "Requirement already satisfied: pydantic!=1.7,!=1.7.1,!=1.7.2,!=1.7.3,!=1.8,!=1.8.1,<2.0.0,>=1.6.2 in /Users/josh/opt/anaconda3/envs/tmp-wine/lib/python3.8/site-packages (from fastapi->mlserver) (1.9.2)\n",
      "Requirement already satisfied: starlette==0.19.1 in /Users/josh/opt/anaconda3/envs/tmp-wine/lib/python3.8/site-packages (from fastapi->mlserver) (0.19.1)\n",
      "Requirement already satisfied: anyio<5,>=3.4.0 in /Users/josh/opt/anaconda3/envs/tmp-wine/lib/python3.8/site-packages (from starlette==0.19.1->fastapi->mlserver) (3.6.1)\n",
      "Requirement already satisfied: typing-extensions>=3.10.0 in /Users/josh/opt/anaconda3/envs/tmp-wine/lib/python3.8/site-packages (from starlette==0.19.1->fastapi->mlserver) (4.3.0)\n",
      "Requirement already satisfied: six>=1.5.2 in /Users/josh/opt/anaconda3/envs/tmp-wine/lib/python3.8/site-packages (from grpcio->mlserver) (1.16.0)\n",
      "Requirement already satisfied: pytz>=2020.1 in /Users/josh/opt/anaconda3/envs/tmp-wine/lib/python3.8/site-packages (from pandas->mlserver) (2022.2.1)\n",
      "Requirement already satisfied: python-dateutil>=2.8.1 in /Users/josh/opt/anaconda3/envs/tmp-wine/lib/python3.8/site-packages (from pandas->mlserver) (2.8.2)\n",
      "Requirement already satisfied: prometheus-client>=0.3.0 in /Users/josh/opt/anaconda3/envs/tmp-wine/lib/python3.8/site-packages (from py-grpc-prometheus->mlserver) (0.14.1)\n",
      "Requirement already satisfied: setuptools>=39.0.1 in /Users/josh/opt/anaconda3/envs/tmp-wine/lib/python3.8/site-packages (from py-grpc-prometheus->mlserver) (59.8.0)\n",
      "Requirement already satisfied: h11>=0.8 in /Users/josh/opt/anaconda3/envs/tmp-wine/lib/python3.8/site-packages (from uvicorn->mlserver) (0.13.0)\n",
      "Requirement already satisfied: sniffio>=1.1 in /Users/josh/opt/anaconda3/envs/tmp-wine/lib/python3.8/site-packages (from anyio<5,>=3.4.0->starlette==0.19.1->fastapi->mlserver) (1.3.0)\n",
      "Requirement already satisfied: idna>=2.8 in /Users/josh/opt/anaconda3/envs/tmp-wine/lib/python3.8/site-packages (from anyio<5,>=3.4.0->starlette==0.19.1->fastapi->mlserver) (3.4)\n",
      "Requirement already satisfied: mlserver-mlflow in /Users/josh/opt/anaconda3/envs/tmp-wine/lib/python3.8/site-packages (1.1.0)\n",
      "Requirement already satisfied: mlflow in /Users/josh/opt/anaconda3/envs/tmp-wine/lib/python3.8/site-packages (from mlserver-mlflow) (1.28.0)\n",
      "Requirement already satisfied: mlserver in /Users/josh/opt/anaconda3/envs/tmp-wine/lib/python3.8/site-packages (from mlserver-mlflow) (1.1.0)\n",
      "Requirement already satisfied: scipy<2 in /Users/josh/opt/anaconda3/envs/tmp-wine/lib/python3.8/site-packages (from mlflow->mlserver-mlflow) (1.9.1)\n",
      "Requirement already satisfied: cloudpickle<3 in /Users/josh/opt/anaconda3/envs/tmp-wine/lib/python3.8/site-packages (from mlflow->mlserver-mlflow) (2.2.0)\n",
      "Requirement already satisfied: databricks-cli<1,>=0.8.7 in /Users/josh/opt/anaconda3/envs/tmp-wine/lib/python3.8/site-packages (from mlflow->mlserver-mlflow) (0.17.3)\n",
      "Requirement already satisfied: pyyaml<7,>=5.1 in /Users/josh/opt/anaconda3/envs/tmp-wine/lib/python3.8/site-packages (from mlflow->mlserver-mlflow) (6.0)\n",
      "Requirement already satisfied: packaging<22 in /Users/josh/opt/anaconda3/envs/tmp-wine/lib/python3.8/site-packages (from mlflow->mlserver-mlflow) (21.3)\n",
      "Requirement already satisfied: gitpython<4,>=2.1.0 in /Users/josh/opt/anaconda3/envs/tmp-wine/lib/python3.8/site-packages (from mlflow->mlserver-mlflow) (3.1.27)\n",
      "Requirement already satisfied: requests<3,>=2.17.3 in /Users/josh/opt/anaconda3/envs/tmp-wine/lib/python3.8/site-packages (from mlflow->mlserver-mlflow) (2.28.1)\n",
      "Requirement already satisfied: prometheus-flask-exporter<1 in /Users/josh/opt/anaconda3/envs/tmp-wine/lib/python3.8/site-packages (from mlflow->mlserver-mlflow) (0.20.3)\n",
      "Requirement already satisfied: docker<6,>=4.0.0 in /Users/josh/opt/anaconda3/envs/tmp-wine/lib/python3.8/site-packages (from mlflow->mlserver-mlflow) (5.0.3)\n",
      "Requirement already satisfied: sqlalchemy<2,>=1.4.0 in /Users/josh/opt/anaconda3/envs/tmp-wine/lib/python3.8/site-packages (from mlflow->mlserver-mlflow) (1.4.41)\n",
      "Requirement already satisfied: alembic<2 in /Users/josh/opt/anaconda3/envs/tmp-wine/lib/python3.8/site-packages (from mlflow->mlserver-mlflow) (1.8.1)\n",
      "Requirement already satisfied: gunicorn<21 in /Users/josh/opt/anaconda3/envs/tmp-wine/lib/python3.8/site-packages (from mlflow->mlserver-mlflow) (20.1.0)\n",
      "Requirement already satisfied: sqlparse<1,>=0.4.0 in /Users/josh/opt/anaconda3/envs/tmp-wine/lib/python3.8/site-packages (from mlflow->mlserver-mlflow) (0.4.2)\n",
      "Requirement already satisfied: pandas<2 in /Users/josh/opt/anaconda3/envs/tmp-wine/lib/python3.8/site-packages (from mlflow->mlserver-mlflow) (1.4.4)\n",
      "Requirement already satisfied: numpy<2 in /Users/josh/opt/anaconda3/envs/tmp-wine/lib/python3.8/site-packages (from mlflow->mlserver-mlflow) (1.22.4)\n",
      "Requirement already satisfied: entrypoints<1 in /Users/josh/opt/anaconda3/envs/tmp-wine/lib/python3.8/site-packages (from mlflow->mlserver-mlflow) (0.4)\n",
      "Requirement already satisfied: click<9,>=7.0 in /Users/josh/opt/anaconda3/envs/tmp-wine/lib/python3.8/site-packages (from mlflow->mlserver-mlflow) (8.1.3)\n",
      "Requirement already satisfied: pytz<2023 in /Users/josh/opt/anaconda3/envs/tmp-wine/lib/python3.8/site-packages (from mlflow->mlserver-mlflow) (2022.2.1)\n",
      "Requirement already satisfied: importlib-metadata!=4.7.0,<5,>=3.7.0 in /Users/josh/opt/anaconda3/envs/tmp-wine/lib/python3.8/site-packages (from mlflow->mlserver-mlflow) (4.12.0)\n",
      "Requirement already satisfied: protobuf<5,>=3.12.0 in /Users/josh/opt/anaconda3/envs/tmp-wine/lib/python3.8/site-packages (from mlflow->mlserver-mlflow) (4.21.6)\n",
      "Requirement already satisfied: Flask<3 in /Users/josh/opt/anaconda3/envs/tmp-wine/lib/python3.8/site-packages (from mlflow->mlserver-mlflow) (2.2.2)\n",
      "Requirement already satisfied: querystring-parser<2 in /Users/josh/opt/anaconda3/envs/tmp-wine/lib/python3.8/site-packages (from mlflow->mlserver-mlflow) (1.2.4)\n",
      "Requirement already satisfied: python-dotenv in /Users/josh/opt/anaconda3/envs/tmp-wine/lib/python3.8/site-packages (from mlserver->mlserver-mlflow) (0.21.0)\n",
      "Requirement already satisfied: aiokafka in /Users/josh/opt/anaconda3/envs/tmp-wine/lib/python3.8/site-packages (from mlserver->mlserver-mlflow) (0.7.2)\n",
      "Requirement already satisfied: starlette-exporter in /Users/josh/opt/anaconda3/envs/tmp-wine/lib/python3.8/site-packages (from mlserver->mlserver-mlflow) (0.14.0)\n",
      "Requirement already satisfied: uvicorn in /Users/josh/opt/anaconda3/envs/tmp-wine/lib/python3.8/site-packages (from mlserver->mlserver-mlflow) (0.18.3)\n",
      "Requirement already satisfied: uvloop in /Users/josh/opt/anaconda3/envs/tmp-wine/lib/python3.8/site-packages (from mlserver->mlserver-mlflow) (0.17.0)\n",
      "Requirement already satisfied: fastapi in /Users/josh/opt/anaconda3/envs/tmp-wine/lib/python3.8/site-packages (from mlserver->mlserver-mlflow) (0.83.0)\n",
      "Requirement already satisfied: grpcio in /Users/josh/opt/anaconda3/envs/tmp-wine/lib/python3.8/site-packages (from mlserver->mlserver-mlflow) (1.48.1)\n",
      "Requirement already satisfied: py-grpc-prometheus in /Users/josh/opt/anaconda3/envs/tmp-wine/lib/python3.8/site-packages (from mlserver->mlserver-mlflow) (0.7.0)\n",
      "Requirement already satisfied: Mako in /Users/josh/opt/anaconda3/envs/tmp-wine/lib/python3.8/site-packages (from alembic<2->mlflow->mlserver-mlflow) (1.2.2)\n",
      "Requirement already satisfied: importlib-resources in /Users/josh/opt/anaconda3/envs/tmp-wine/lib/python3.8/site-packages (from alembic<2->mlflow->mlserver-mlflow) (5.9.0)\n",
      "Requirement already satisfied: tabulate>=0.7.7 in /Users/josh/opt/anaconda3/envs/tmp-wine/lib/python3.8/site-packages (from databricks-cli<1,>=0.8.7->mlflow->mlserver-mlflow) (0.8.10)\n",
      "Requirement already satisfied: oauthlib>=3.1.0 in /Users/josh/opt/anaconda3/envs/tmp-wine/lib/python3.8/site-packages (from databricks-cli<1,>=0.8.7->mlflow->mlserver-mlflow) (3.2.1)\n",
      "Requirement already satisfied: six>=1.10.0 in /Users/josh/opt/anaconda3/envs/tmp-wine/lib/python3.8/site-packages (from databricks-cli<1,>=0.8.7->mlflow->mlserver-mlflow) (1.16.0)\n",
      "Requirement already satisfied: pyjwt>=1.7.0 in /Users/josh/opt/anaconda3/envs/tmp-wine/lib/python3.8/site-packages (from databricks-cli<1,>=0.8.7->mlflow->mlserver-mlflow) (2.4.0)\n",
      "Requirement already satisfied: websocket-client>=0.32.0 in /Users/josh/opt/anaconda3/envs/tmp-wine/lib/python3.8/site-packages (from docker<6,>=4.0.0->mlflow->mlserver-mlflow) (1.4.1)\n",
      "Requirement already satisfied: Werkzeug>=2.2.2 in /Users/josh/opt/anaconda3/envs/tmp-wine/lib/python3.8/site-packages (from Flask<3->mlflow->mlserver-mlflow) (2.2.2)\n",
      "Requirement already satisfied: Jinja2>=3.0 in /Users/josh/opt/anaconda3/envs/tmp-wine/lib/python3.8/site-packages (from Flask<3->mlflow->mlserver-mlflow) (3.1.2)\n",
      "Requirement already satisfied: itsdangerous>=2.0 in /Users/josh/opt/anaconda3/envs/tmp-wine/lib/python3.8/site-packages (from Flask<3->mlflow->mlserver-mlflow) (2.1.2)\n",
      "Requirement already satisfied: gitdb<5,>=4.0.1 in /Users/josh/opt/anaconda3/envs/tmp-wine/lib/python3.8/site-packages (from gitpython<4,>=2.1.0->mlflow->mlserver-mlflow) (4.0.9)\n",
      "Requirement already satisfied: setuptools>=3.0 in /Users/josh/opt/anaconda3/envs/tmp-wine/lib/python3.8/site-packages (from gunicorn<21->mlflow->mlserver-mlflow) (59.8.0)\n",
      "Requirement already satisfied: zipp>=0.5 in /Users/josh/opt/anaconda3/envs/tmp-wine/lib/python3.8/site-packages (from importlib-metadata!=4.7.0,<5,>=3.7.0->mlflow->mlserver-mlflow) (3.8.1)\n",
      "Requirement already satisfied: pyparsing!=3.0.5,>=2.0.2 in /Users/josh/opt/anaconda3/envs/tmp-wine/lib/python3.8/site-packages (from packaging<22->mlflow->mlserver-mlflow) (3.0.9)\n",
      "Requirement already satisfied: python-dateutil>=2.8.1 in /Users/josh/opt/anaconda3/envs/tmp-wine/lib/python3.8/site-packages (from pandas<2->mlflow->mlserver-mlflow) (2.8.2)\n",
      "Requirement already satisfied: prometheus-client in /Users/josh/opt/anaconda3/envs/tmp-wine/lib/python3.8/site-packages (from prometheus-flask-exporter<1->mlflow->mlserver-mlflow) (0.14.1)\n",
      "Requirement already satisfied: charset-normalizer<3,>=2 in /Users/josh/opt/anaconda3/envs/tmp-wine/lib/python3.8/site-packages (from requests<3,>=2.17.3->mlflow->mlserver-mlflow) (2.1.1)\n",
      "Requirement already satisfied: urllib3<1.27,>=1.21.1 in /Users/josh/opt/anaconda3/envs/tmp-wine/lib/python3.8/site-packages (from requests<3,>=2.17.3->mlflow->mlserver-mlflow) (1.26.12)\n",
      "Requirement already satisfied: idna<4,>=2.5 in /Users/josh/opt/anaconda3/envs/tmp-wine/lib/python3.8/site-packages (from requests<3,>=2.17.3->mlflow->mlserver-mlflow) (3.4)\n",
      "Requirement already satisfied: certifi>=2017.4.17 in /Users/josh/opt/anaconda3/envs/tmp-wine/lib/python3.8/site-packages (from requests<3,>=2.17.3->mlflow->mlserver-mlflow) (2022.6.15)\n",
      "Requirement already satisfied: greenlet!=0.4.17 in /Users/josh/opt/anaconda3/envs/tmp-wine/lib/python3.8/site-packages (from sqlalchemy<2,>=1.4.0->mlflow->mlserver-mlflow) (1.1.3)\n",
      "Requirement already satisfied: kafka-python>=2.0.0 in /Users/josh/opt/anaconda3/envs/tmp-wine/lib/python3.8/site-packages (from aiokafka->mlserver->mlserver-mlflow) (2.0.2)\n",
      "Requirement already satisfied: pydantic!=1.7,!=1.7.1,!=1.7.2,!=1.7.3,!=1.8,!=1.8.1,<2.0.0,>=1.6.2 in /Users/josh/opt/anaconda3/envs/tmp-wine/lib/python3.8/site-packages (from fastapi->mlserver->mlserver-mlflow) (1.9.2)\n",
      "Requirement already satisfied: starlette==0.19.1 in /Users/josh/opt/anaconda3/envs/tmp-wine/lib/python3.8/site-packages (from fastapi->mlserver->mlserver-mlflow) (0.19.1)\n",
      "Requirement already satisfied: anyio<5,>=3.4.0 in /Users/josh/opt/anaconda3/envs/tmp-wine/lib/python3.8/site-packages (from starlette==0.19.1->fastapi->mlserver->mlserver-mlflow) (3.6.1)\n",
      "Requirement already satisfied: typing-extensions>=3.10.0 in /Users/josh/opt/anaconda3/envs/tmp-wine/lib/python3.8/site-packages (from starlette==0.19.1->fastapi->mlserver->mlserver-mlflow) (4.3.0)\n",
      "Requirement already satisfied: h11>=0.8 in /Users/josh/opt/anaconda3/envs/tmp-wine/lib/python3.8/site-packages (from uvicorn->mlserver->mlserver-mlflow) (0.13.0)\n",
      "Requirement already satisfied: smmap<6,>=3.0.1 in /Users/josh/opt/anaconda3/envs/tmp-wine/lib/python3.8/site-packages (from gitdb<5,>=4.0.1->gitpython<4,>=2.1.0->mlflow->mlserver-mlflow) (5.0.0)\n",
      "Requirement already satisfied: MarkupSafe>=2.0 in /Users/josh/opt/anaconda3/envs/tmp-wine/lib/python3.8/site-packages (from Jinja2>=3.0->Flask<3->mlflow->mlserver-mlflow) (2.1.1)\n",
      "Requirement already satisfied: sniffio>=1.1 in /Users/josh/opt/anaconda3/envs/tmp-wine/lib/python3.8/site-packages (from anyio<5,>=3.4.0->starlette==0.19.1->fastapi->mlserver->mlserver-mlflow) (1.3.0)\n",
      "Requirement already satisfied: sklearn in /Users/josh/opt/anaconda3/envs/tmp-wine/lib/python3.8/site-packages (0.0)\n",
      "Requirement already satisfied: scikit-learn in /Users/josh/opt/anaconda3/envs/tmp-wine/lib/python3.8/site-packages (from sklearn) (1.1.2)\n",
      "Requirement already satisfied: joblib>=1.0.0 in /Users/josh/opt/anaconda3/envs/tmp-wine/lib/python3.8/site-packages (from scikit-learn->sklearn) (1.1.0)\n",
      "Requirement already satisfied: threadpoolctl>=2.0.0 in /Users/josh/opt/anaconda3/envs/tmp-wine/lib/python3.8/site-packages (from scikit-learn->sklearn) (3.1.0)\n",
      "Requirement already satisfied: scipy>=1.3.2 in /Users/josh/opt/anaconda3/envs/tmp-wine/lib/python3.8/site-packages (from scikit-learn->sklearn) (1.9.1)\n",
      "Requirement already satisfied: numpy>=1.17.3 in /Users/josh/opt/anaconda3/envs/tmp-wine/lib/python3.8/site-packages (from scikit-learn->sklearn) (1.22.4)\n"
     ]
    }
   ],
   "source": [
    "!pip install minio\n",
    "!pip install conda-pack\n",
    "!pip install mlserver\n",
    "!pip install mlserver-mlflow\n",
    "!pip install sklearn"
   ]
  },
  {
   "cell_type": "code",
   "execution_count": 6,
   "id": "6d2c3173",
   "metadata": {},
   "outputs": [],
   "source": [
    "from minio import Minio\n",
    "import pandas as pd\n",
    "import json\n",
    "import requests\n",
    "import os\n",
    "import glob"
   ]
  },
  {
   "cell_type": "markdown",
   "id": "410e6c32",
   "metadata": {},
   "source": [
    "### 2. Run experiment and train model in MLFlow\n",
    "For our example, we will use the elastic net wine example from [MLflow's tutorial](https://github.com/mlflow/mlflow/tree/master/examples/sklearn_elasticnet_wine).\n",
    "\n",
    "Let's load the data to see what's inside:"
   ]
  },
  {
   "cell_type": "code",
   "execution_count": 24,
   "id": "56218ae9",
   "metadata": {},
   "outputs": [
    {
     "data": {
      "text/html": [
       "<div>\n",
       "<style scoped>\n",
       "    .dataframe tbody tr th:only-of-type {\n",
       "        vertical-align: middle;\n",
       "    }\n",
       "\n",
       "    .dataframe tbody tr th {\n",
       "        vertical-align: top;\n",
       "    }\n",
       "\n",
       "    .dataframe thead th {\n",
       "        text-align: right;\n",
       "    }\n",
       "</style>\n",
       "<table border=\"1\" class=\"dataframe\">\n",
       "  <thead>\n",
       "    <tr style=\"text-align: right;\">\n",
       "      <th></th>\n",
       "      <th>fixed acidity</th>\n",
       "      <th>volatile acidity</th>\n",
       "      <th>citric acid</th>\n",
       "      <th>residual sugar</th>\n",
       "      <th>chlorides</th>\n",
       "      <th>free sulfur dioxide</th>\n",
       "      <th>total sulfur dioxide</th>\n",
       "      <th>density</th>\n",
       "      <th>pH</th>\n",
       "      <th>sulphates</th>\n",
       "      <th>alcohol</th>\n",
       "      <th>quality</th>\n",
       "    </tr>\n",
       "  </thead>\n",
       "  <tbody>\n",
       "    <tr>\n",
       "      <th>0</th>\n",
       "      <td>7.4</td>\n",
       "      <td>0.70</td>\n",
       "      <td>0.00</td>\n",
       "      <td>1.9</td>\n",
       "      <td>0.076</td>\n",
       "      <td>11.0</td>\n",
       "      <td>34.0</td>\n",
       "      <td>0.9978</td>\n",
       "      <td>3.51</td>\n",
       "      <td>0.56</td>\n",
       "      <td>9.4</td>\n",
       "      <td>5</td>\n",
       "    </tr>\n",
       "    <tr>\n",
       "      <th>1</th>\n",
       "      <td>7.8</td>\n",
       "      <td>0.88</td>\n",
       "      <td>0.00</td>\n",
       "      <td>2.6</td>\n",
       "      <td>0.098</td>\n",
       "      <td>25.0</td>\n",
       "      <td>67.0</td>\n",
       "      <td>0.9968</td>\n",
       "      <td>3.20</td>\n",
       "      <td>0.68</td>\n",
       "      <td>9.8</td>\n",
       "      <td>5</td>\n",
       "    </tr>\n",
       "    <tr>\n",
       "      <th>2</th>\n",
       "      <td>7.8</td>\n",
       "      <td>0.76</td>\n",
       "      <td>0.04</td>\n",
       "      <td>2.3</td>\n",
       "      <td>0.092</td>\n",
       "      <td>15.0</td>\n",
       "      <td>54.0</td>\n",
       "      <td>0.9970</td>\n",
       "      <td>3.26</td>\n",
       "      <td>0.65</td>\n",
       "      <td>9.8</td>\n",
       "      <td>5</td>\n",
       "    </tr>\n",
       "    <tr>\n",
       "      <th>3</th>\n",
       "      <td>11.2</td>\n",
       "      <td>0.28</td>\n",
       "      <td>0.56</td>\n",
       "      <td>1.9</td>\n",
       "      <td>0.075</td>\n",
       "      <td>17.0</td>\n",
       "      <td>60.0</td>\n",
       "      <td>0.9980</td>\n",
       "      <td>3.16</td>\n",
       "      <td>0.58</td>\n",
       "      <td>9.8</td>\n",
       "      <td>6</td>\n",
       "    </tr>\n",
       "    <tr>\n",
       "      <th>4</th>\n",
       "      <td>7.4</td>\n",
       "      <td>0.70</td>\n",
       "      <td>0.00</td>\n",
       "      <td>1.9</td>\n",
       "      <td>0.076</td>\n",
       "      <td>11.0</td>\n",
       "      <td>34.0</td>\n",
       "      <td>0.9978</td>\n",
       "      <td>3.51</td>\n",
       "      <td>0.56</td>\n",
       "      <td>9.4</td>\n",
       "      <td>5</td>\n",
       "    </tr>\n",
       "  </tbody>\n",
       "</table>\n",
       "</div>"
      ],
      "text/plain": [
       "   fixed acidity  volatile acidity  citric acid  residual sugar  chlorides  \\\n",
       "0            7.4              0.70         0.00             1.9      0.076   \n",
       "1            7.8              0.88         0.00             2.6      0.098   \n",
       "2            7.8              0.76         0.04             2.3      0.092   \n",
       "3           11.2              0.28         0.56             1.9      0.075   \n",
       "4            7.4              0.70         0.00             1.9      0.076   \n",
       "\n",
       "   free sulfur dioxide  total sulfur dioxide  density    pH  sulphates  \\\n",
       "0                 11.0                  34.0   0.9978  3.51       0.56   \n",
       "1                 25.0                  67.0   0.9968  3.20       0.68   \n",
       "2                 15.0                  54.0   0.9970  3.26       0.65   \n",
       "3                 17.0                  60.0   0.9980  3.16       0.58   \n",
       "4                 11.0                  34.0   0.9978  3.51       0.56   \n",
       "\n",
       "   alcohol  quality  \n",
       "0      9.4        5  \n",
       "1      9.8        5  \n",
       "2      9.8        5  \n",
       "3      9.8        6  \n",
       "4      9.4        5  "
      ]
     },
     "execution_count": 24,
     "metadata": {},
     "output_type": "execute_result"
    }
   ],
   "source": [
    "data = pd.read_csv(\"http://archive.ics.uci.edu/ml/machine-learning-databases/wine-quality/winequality-red.csv\", sep=';')\n",
    "data.head()"
   ]
  },
  {
   "cell_type": "code",
   "execution_count": 7,
   "id": "409afec6",
   "metadata": {},
   "outputs": [],
   "source": [
    "# Wine Quality Sample\n",
    "def train(in_alpha, in_l1_ratio):\n",
    "    import os\n",
    "    import warnings\n",
    "    import sys\n",
    "\n",
    "    import pandas as pd\n",
    "    import numpy as np\n",
    "    from sklearn.metrics import mean_squared_error, mean_absolute_error, r2_score\n",
    "    from sklearn.model_selection import train_test_split\n",
    "    from sklearn.linear_model import ElasticNet\n",
    "\n",
    "    import mlflow\n",
    "    import mlflow.sklearn\n",
    "    \n",
    "    import logging\n",
    "    logging.basicConfig(level=logging.WARN)\n",
    "    logger = logging.getLogger(__name__)\n",
    "\n",
    "    def eval_metrics(actual, pred):\n",
    "        rmse = np.sqrt(mean_squared_error(actual, pred))\n",
    "        mae = mean_absolute_error(actual, pred)\n",
    "        r2 = r2_score(actual, pred)\n",
    "        return rmse, mae, r2\n",
    "\n",
    "\n",
    "    warnings.filterwarnings(\"ignore\")\n",
    "    np.random.seed(40)\n",
    "\n",
    "    # Read the wine-quality csv file from the URL\n",
    "    csv_url =\\\n",
    "        'http://archive.ics.uci.edu/ml/machine-learning-databases/wine-quality/winequality-red.csv'\n",
    "    try:\n",
    "        data = pd.read_csv(csv_url, sep=';')\n",
    "    except Exception as e:\n",
    "        logger.exception(\n",
    "            \"Unable to download training & test CSV, check your internet connection. Error: %s\", e)\n",
    "\n",
    "    # Split the data into training and test sets. (0.75, 0.25) split.\n",
    "    train, test = train_test_split(data)\n",
    "\n",
    "    # The predicted column is \"quality\" which is a scalar from [3, 9]\n",
    "    train_x = train.drop([\"quality\"], axis=1)\n",
    "    test_x = test.drop([\"quality\"], axis=1)\n",
    "    train_y = train[[\"quality\"]]\n",
    "    test_y = test[[\"quality\"]]\n",
    "\n",
    "    # Set default values if no alpha is provided\n",
    "    if float(in_alpha) is None:\n",
    "        alpha = 0.5\n",
    "    else:\n",
    "        alpha = float(in_alpha)\n",
    "\n",
    "    # Set default values if no l1_ratio is provided\n",
    "    if float(in_l1_ratio) is None:\n",
    "        l1_ratio = 0.5\n",
    "    else:\n",
    "        l1_ratio = float(in_l1_ratio)\n",
    "\n",
    "    # Useful for multiple runs (only doing one run in this sample notebook)    \n",
    "    with mlflow.start_run():\n",
    "        # Execute ElasticNet\n",
    "        lr = ElasticNet(alpha=alpha, l1_ratio=l1_ratio, random_state=42)\n",
    "        lr.fit(train_x, train_y)\n",
    "\n",
    "        # Evaluate Metrics\n",
    "        predicted_qualities = lr.predict(test_x)\n",
    "        (rmse, mae, r2) = eval_metrics(test_y, predicted_qualities)\n",
    "\n",
    "        # Print out metrics\n",
    "        print(\"Elasticnet model (alpha=%f, l1_ratio=%f):\" % (alpha, l1_ratio))\n",
    "        print(\"  RMSE: %s\" % rmse)\n",
    "        print(\"  MAE: %s\" % mae)\n",
    "        print(\"  R2: %s\" % r2)\n",
    "\n",
    "        # Log parameter, metrics, and model to MLflow\n",
    "        mlflow.log_param(\"alpha\", alpha)\n",
    "        mlflow.log_param(\"l1_ratio\", l1_ratio)\n",
    "        mlflow.log_metric(\"rmse\", rmse)\n",
    "        mlflow.log_metric(\"r2\", r2)\n",
    "        mlflow.log_metric(\"mae\", mae)\n",
    "\n",
    "        mlflow.sklearn.log_model(lr, \"model\")"
   ]
  },
  {
   "cell_type": "code",
   "execution_count": 8,
   "id": "f2926f07",
   "metadata": {},
   "outputs": [
    {
     "name": "stdout",
     "output_type": "stream",
     "text": [
      "Elasticnet model (alpha=0.500000, l1_ratio=0.900000):\n",
      "  RMSE: 0.8323747376136406\n",
      "  MAE: 0.6669171677143245\n",
      "  R2: 0.018316455219614114\n"
     ]
    }
   ],
   "source": [
    "train(0.5, 0.9)"
   ]
  },
  {
   "cell_type": "code",
   "execution_count": 9,
   "id": "6011bcb3",
   "metadata": {},
   "outputs": [
    {
     "name": "stdout",
     "output_type": "stream",
     "text": [
      "Elasticnet model (alpha=0.200000, l1_ratio=0.300000):\n",
      "  RMSE: 0.7357092639331829\n",
      "  MAE: 0.5667609266233856\n",
      "  R2: 0.23308686049080007\n"
     ]
    }
   ],
   "source": [
    "train(0.2, 0.3)"
   ]
  },
  {
   "cell_type": "code",
   "execution_count": 10,
   "id": "0bc3e40a",
   "metadata": {},
   "outputs": [
    {
     "name": "stdout",
     "output_type": "stream",
     "text": [
      "Elasticnet model (alpha=0.100000, l1_ratio=0.100000):\n",
      "  RMSE: 0.7128829045893679\n",
      "  MAE: 0.5462202174984664\n",
      "  R2: 0.2799376066653344\n"
     ]
    }
   ],
   "source": [
    "train(0.1, 0.1)"
   ]
  },
  {
   "cell_type": "markdown",
   "id": "37ff4a2e",
   "metadata": {},
   "source": [
    "Each of these models can actually be found on the `mlruns` folder:"
   ]
  },
  {
   "cell_type": "code",
   "execution_count": 9,
   "id": "013791b0",
   "metadata": {},
   "outputs": [
    {
     "name": "stdout",
     "output_type": "stream",
     "text": [
      "Reading package lists... Done\n",
      "Building dependency tree       \n",
      "Reading state information... Done\n",
      "tree is already the newest version (1.8.0-1).\n",
      "The following package was automatically installed and is no longer required:\n",
      "  libfwupdplugin1\n",
      "Use 'sudo apt autoremove' to remove it.\n",
      "0 upgraded, 0 newly installed, 0 to remove and 0 not upgraded.\n"
     ]
    }
   ],
   "source": [
    "!sudo apt install tree"
   ]
  },
  {
   "cell_type": "code",
   "execution_count": 4,
   "id": "ee3dd495",
   "metadata": {},
   "outputs": [
    {
     "name": "stdout",
     "output_type": "stream",
     "text": [
      "mlruns/0  [error opening dir]\n",
      "\n",
      "0 directories, 0 files\n"
     ]
    }
   ],
   "source": [
    "!tree -L 1 mlruns/0"
   ]
  },
  {
   "cell_type": "markdown",
   "id": "adbc8847",
   "metadata": {},
   "source": [
    "Inside each of these folders, MLflow stores the parameters we used to train our model, any metric we logged during training, and a snapshot of our model. If we look into one of them, we can see the following structure:"
   ]
  },
  {
   "cell_type": "code",
   "execution_count": 9,
   "id": "eca6ba17",
   "metadata": {},
   "outputs": [
    {
     "name": "stdout",
     "output_type": "stream",
     "text": [
      "\u001b[01;34mmlruns/0/62be42b3506b42aaa2f506f96368a442\u001b[00m\n",
      "├── \u001b[01;34martifacts\u001b[00m\n",
      "│   └── \u001b[01;34mmodel\u001b[00m\n",
      "│       ├── conda.yaml\n",
      "│       ├── MLmodel\n",
      "│       ├── model.pkl\n",
      "│       ├── python_env.yaml\n",
      "│       └── requirements.txt\n",
      "├── meta.yaml\n",
      "├── \u001b[01;34mmetrics\u001b[00m\n",
      "│   ├── mae\n",
      "│   ├── r2\n",
      "│   └── rmse\n",
      "├── \u001b[01;34mparams\u001b[00m\n",
      "│   ├── alpha\n",
      "│   └── l1_ratio\n",
      "└── \u001b[01;34mtags\u001b[00m\n",
      "    ├── mlflow.log-model.history\n",
      "    ├── mlflow.source.name\n",
      "    ├── mlflow.source.type\n",
      "    └── mlflow.user\n",
      "\n",
      "5 directories, 15 files\n"
     ]
    }
   ],
   "source": [
    "!tree mlruns/0/$(ls mlruns/0 | head -1)"
   ]
  },
  {
   "cell_type": "markdown",
   "id": "e50cf3e1",
   "metadata": {},
   "source": [
    "In particular, we are interested in the MLmodel file stored under artifacts/model:"
   ]
  },
  {
   "cell_type": "code",
   "execution_count": 10,
   "id": "bc35c3f3",
   "metadata": {},
   "outputs": [
    {
     "name": "stdout",
     "output_type": "stream",
     "text": [
      "artifact_path: model\n",
      "flavors:\n",
      "  python_function:\n",
      "    env: conda.yaml\n",
      "    loader_module: mlflow.sklearn\n",
      "    model_path: model.pkl\n",
      "    python_version: 3.8.13\n",
      "  sklearn:\n",
      "    code: null\n",
      "    pickled_model: model.pkl\n",
      "    serialization_format: cloudpickle\n",
      "    sklearn_version: 1.1.2\n",
      "mlflow_version: 1.28.0\n",
      "model_uuid: b658b250b00d4c1389267e06bc79161a\n",
      "run_id: 62be42b3506b42aaa2f506f96368a442\n",
      "utc_time_created: '2022-09-14 17:50:16.578005'\n"
     ]
    }
   ],
   "source": [
    "!cat mlruns/0/$(ls mlruns/0 | head -1)/artifacts/model/MLmodel"
   ]
  },
  {
   "cell_type": "markdown",
   "id": "32794277",
   "metadata": {},
   "source": [
    "We can also view the dependencies that will be required to serve the model"
   ]
  },
  {
   "cell_type": "code",
   "execution_count": 11,
   "id": "4e2800bb",
   "metadata": {
    "scrolled": true
   },
   "outputs": [
    {
     "name": "stdout",
     "output_type": "stream",
     "text": [
      "channels:\n",
      "- conda-forge\n",
      "dependencies:\n",
      "- python=3.8.13\n",
      "- pip<=22.2.2\n",
      "- pip:\n",
      "  - mlflow\n",
      "  - cloudpickle==2.2.0\n",
      "  - psutil==5.9.2\n",
      "  - scikit-learn==1.1.2\n",
      "  - typing-extensions==4.3.0\n",
      "name: mlflow-env\n"
     ]
    }
   ],
   "source": [
    "!cat mlruns/0/$(ls mlruns/0 | head -1)/artifacts/model/conda.yaml"
   ]
  },
  {
   "cell_type": "markdown",
   "id": "570fa9f1",
   "metadata": {},
   "source": [
    "This file stores the details of how the model was stored. With this information (plus the other files in the folder), we are able to load the model back. Seldon’s MLflow server will use this information to serve this model."
   ]
  },
  {
   "cell_type": "markdown",
   "id": "3801ff27",
   "metadata": {},
   "source": [
    "### 4. Push artefacts to MinIO"
   ]
  },
  {
   "cell_type": "code",
   "execution_count": 7,
   "id": "40c2de1c",
   "metadata": {},
   "outputs": [],
   "source": [
    "RUN = \"232aa25e011b407aabfae6f92e4c7c8e\"\n",
    "BUCKET_NAME = \"wine-model-3\""
   ]
  },
  {
   "cell_type": "code",
   "execution_count": 33,
   "id": "9781cb05",
   "metadata": {},
   "outputs": [],
   "source": [
    "minioClient = Minio(\"35.185.70.254:9000\", \"admin@seldon.io\", \"12341234\", secure=False)"
   ]
  },
  {
   "cell_type": "code",
   "execution_count": 34,
   "id": "8e1249b3",
   "metadata": {},
   "outputs": [
    {
     "data": {
      "text/plain": [
       "[Bucket('deploy-audit'), Bucket('wine-model-1'), Bucket('wine-model-2')]"
      ]
     },
     "execution_count": 34,
     "metadata": {},
     "output_type": "execute_result"
    }
   ],
   "source": [
    "minioClient.list_buckets()"
   ]
  },
  {
   "cell_type": "code",
   "execution_count": null,
   "id": "27184b88",
   "metadata": {},
   "outputs": [],
   "source": []
  },
  {
   "cell_type": "code",
   "execution_count": 35,
   "id": "c7e99211",
   "metadata": {},
   "outputs": [
    {
     "name": "stdout",
     "output_type": "stream",
     "text": [
      "MLmodel          model.pkl        requirements.txt\n",
      "conda.yaml       python_env.yaml\n"
     ]
    }
   ],
   "source": [
    "!ls mlruns/0/{RUN}/artifacts/model"
   ]
  },
  {
   "cell_type": "code",
   "execution_count": 36,
   "id": "c3843836",
   "metadata": {},
   "outputs": [],
   "source": [
    "def upload_local_directory_to_minio(local_path: str, bucket_name: str, folder_name: str):\n",
    "    assert os.path.isdir(local_path)\n",
    "\n",
    "    for local_file in glob.glob(local_path + '/**'):\n",
    "        local_file = local_file.replace(os.sep, \"/\")\n",
    "        if not os.path.isfile(local_file):\n",
    "            upload_local_directory_to_minio(\n",
    "                local_file, bucket_name)\n",
    "        else:\n",
    "            remote_path = os.path.join(\n",
    "                local_file[1 + len(local_path):])\n",
    "            remote_path = remote_path.replace(\n",
    "                os.sep, \"/\")\n",
    "            remote_path = folder_name + \"/\" + remote_path\n",
    "            minioClient.fput_object(bucket_name, remote_path, local_file)"
   ]
  },
  {
   "cell_type": "code",
   "execution_count": 37,
   "id": "9424ada5",
   "metadata": {},
   "outputs": [],
   "source": [
    "upload_local_directory_to_minio(f\"mlruns/0/{RUN}/artifacts/model\", f\"{BUCKET_NAME}\", \"default\")"
   ]
  },
  {
   "cell_type": "markdown",
   "id": "2c919778",
   "metadata": {},
   "source": [
    "### 5. Deploy via the SDK"
   ]
  },
  {
   "cell_type": "markdown",
   "id": "c2695a82",
   "metadata": {},
   "source": [
    "Create a function to authenticate against the cluster"
   ]
  },
  {
   "cell_type": "code",
   "execution_count": 1,
   "id": "9f2bc7e2",
   "metadata": {},
   "outputs": [],
   "source": [
    "from seldon_deploy_sdk import Configuration, PredictApi, ApiClient, SeldonDeploymentsApi, ModelMetadataServiceApi, DriftDetectorApi, BatchJobsApi, BatchJobDefinition\n",
    "from seldon_deploy_sdk.auth import OIDCAuthenticator\n",
    "from seldon_deploy_sdk.rest import ApiException\n",
    "\n",
    "SD_IP = \"35.190.191.28\"\n",
    "config = Configuration()\n",
    "config.host = f\"http://{SD_IP}/seldon-deploy/api/v1alpha1\"\n",
    "config.oidc_server = f\"http://{SD_IP}/auth/realms/deploy-realm\"\n",
    "config.oidc_client_id = \"sd-api\"\n",
    "config.oidc_client_secret = \"sd-api-secret\"\n",
    "config.username = \"admin@seldon.io\"\n",
    "config.password = \"12341234\"\n",
    "config.auth_method = \"password_grant\"\n",
    "\n",
    "auth = OIDCAuthenticator(config)\n",
    "config.id_token = auth.authenticate()\n",
    "\n",
    "api_client = ApiClient(configuration=config, authenticator=auth)"
   ]
  },
  {
   "cell_type": "markdown",
   "id": "15dff0a1",
   "metadata": {},
   "source": [
    "#### Deploy with the v2 protocol\n",
    "In order to use the v2 protocol, it is best to use conda pack to locally save the conda environment to a tar file.  The initialiser can then use this to install required dependencies into the container.\n",
    "\n",
    "To use the built-in MLflow server the following pre-requisites need to be met:\n",
    "\n",
    "* Your MLmodel artifact folder needs to be accessible remotely (e.g. in minio).\n",
    "\n",
    "* Your model needs to be compatible with the python_function flavour.\n",
    "\n",
    "* Your MLproject environment needs to be specified using Conda."
   ]
  },
  {
   "cell_type": "code",
   "execution_count": 42,
   "id": "16e33274",
   "metadata": {},
   "outputs": [
    {
     "name": "stdout",
     "output_type": "stream",
     "text": [
      "232aa25e011b407aabfae6f92e4c7c8e\n"
     ]
    }
   ],
   "source": [
    "!ls mlruns/0 | sed -n 1p"
   ]
  },
  {
   "cell_type": "code",
   "execution_count": 43,
   "id": "bb02a767",
   "metadata": {},
   "outputs": [
    {
     "name": "stdout",
     "output_type": "stream",
     "text": [
      "Collecting packages...\n",
      "CondaPackError: \n",
      "Files managed by conda were found to have been deleted/overwritten in the\n",
      "following packages:\n",
      "\n",
      "- setuptools 63.4.1:\n",
      "    lib/python3.8/site-packages/pkg_resources/_vendor/__pycache__/zipp.cpython-38.pyc\n",
      "    lib/python3.8/site-packages/pkg_resources/_vendor/importlib_resources/__init__.py\n",
      "    lib/python3.8/site-packages/pkg_resources/_vendor/importlib_resources/__pycache__/__init__.cpython-38.pyc\n",
      "    + 183 others\n",
      "\n",
      "This is usually due to `pip` uninstalling or clobbering conda managed files,\n",
      "resulting in an inconsistent environment. Please check your environment for\n",
      "conda/pip conflicts using `conda list`, and fix the environment by ensuring\n",
      "only one version of each package is installed (conda preferred).\n"
     ]
    }
   ],
   "source": [
    "!conda pack -o mlruns/0/$(ls mlruns/0 | sed -n 3p)/artifacts/model/environment.tar.gz -f"
   ]
  },
  {
   "cell_type": "markdown",
   "id": "fd1f92a9",
   "metadata": {},
   "source": [
    "Push the environment.tar.gz file to MinIO"
   ]
  },
  {
   "cell_type": "code",
   "execution_count": 24,
   "id": "4660159e",
   "metadata": {},
   "outputs": [
    {
     "data": {
      "text/plain": [
       "<minio.helpers.ObjectWriteResult at 0x7f612fbf2f10>"
      ]
     },
     "execution_count": 24,
     "metadata": {},
     "output_type": "execute_result"
    }
   ],
   "source": [
    "minioClient.fput_object(f\"{BUCKET_NAME}\", \"default/environment.tar.gz\", f\"mlruns/0/{RUN}/artifacts/model/environment.tar.gz\")"
   ]
  },
  {
   "cell_type": "markdown",
   "id": "a3e5117a",
   "metadata": {},
   "source": [
    "It should be enough to simply specify the v2 protocol.  You no longer need to adjust the liveness and readiness probes.  Note that this deployment can also be done via the UI in Seldon Deploy."
   ]
  },
  {
   "cell_type": "code",
   "execution_count": 2,
   "id": "ae1a5c46",
   "metadata": {},
   "outputs": [],
   "source": [
    "DEPLOYMENT_NAME = f\"mlflow-sdk-wine\"\n",
    "NAMESPACE = \"seldon\"\n",
    "BUCKET_NAME = \"wine-model-3\"\n",
    "MODEL_LOCATION = f\"minio:{BUCKET_NAME}/default\"\n",
    "SECRET_NAME = \"minio-bucket\"\n",
    "\n",
    "\n",
    "mldeployment = {\n",
    "  \"apiVersion\": \"machinelearning.seldon.io/v1alpha2\",\n",
    "  \"kind\": \"SeldonDeployment\",\n",
    "  \"metadata\": {\n",
    "    \"name\": f\"{DEPLOYMENT_NAME}\",\n",
    "    \"namespace\": NAMESPACE\n",
    "  },\n",
    "  \"spec\": {\n",
    "    \"protocol\": \"v2\",\n",
    "    \"name\": f\"{DEPLOYMENT_NAME}\",\n",
    "    \"predictors\": [\n",
    "      {\n",
    "        \"graph\": {\n",
    "          \"children\": [],\n",
    "          \"implementation\": \"MLFLOW_SERVER\",\n",
    "          \"modelUri\": f\"{MODEL_LOCATION}\",\n",
    "          \"envSecretRefName\": f\"{SECRET_NAME}\",\n",
    "          \"name\": f\"{DEPLOYMENT_NAME}-container\",\n",
    "          \"logger\": {\n",
    "                        \"mode\": \"all\"\n",
    "                    }\n",
    "        },\n",
    "        \"name\": \"default\",\n",
    "        \"replicas\": 1\n",
    "      }\n",
    "    ]\n",
    "  }\n",
    "}"
   ]
  },
  {
   "cell_type": "code",
   "execution_count": 3,
   "id": "995cc81d",
   "metadata": {},
   "outputs": [
    {
     "data": {
      "text/plain": [
       "{'api_version': None,\n",
       " 'kind': None,\n",
       " 'metadata': {'annotations': None,\n",
       "              'cluster_name': None,\n",
       "              'creation_timestamp': '2022-11-15T18:55:56Z',\n",
       "              'deletion_grace_period_seconds': None,\n",
       "              'deletion_timestamp': None,\n",
       "              'finalizers': None,\n",
       "              'generate_name': None,\n",
       "              'generation': 1,\n",
       "              'labels': None,\n",
       "              'managed_fields': [{'api_version': 'machinelearning.seldon.io/v1',\n",
       "                                  'fields_type': 'FieldsV1',\n",
       "                                  'fields_v1': {'f:spec': {'.': {},\n",
       "                                                           'f:name': {},\n",
       "                                                           'f:predictors': {},\n",
       "                                                           'f:protocol': {}}},\n",
       "                                  'manager': 'deployserver',\n",
       "                                  'operation': 'Update',\n",
       "                                  'time': '2022-11-15T18:55:56Z'}],\n",
       "              'name': 'mlflow-sdk-wine',\n",
       "              'namespace': 'seldon',\n",
       "              'owner_references': None,\n",
       "              'resource_version': '177713761',\n",
       "              'self_link': None,\n",
       "              'uid': '55fcc140-954e-4683-adc3-dd1ff18f5977'},\n",
       " 'spec': {'annotations': None,\n",
       "          'name': 'mlflow-sdk-wine',\n",
       "          'oauth_key': None,\n",
       "          'oauth_secret': None,\n",
       "          'predictors': [{'annotations': None,\n",
       "                          'component_specs': None,\n",
       "                          'engine_resources': {'limits': None,\n",
       "                                               'requests': None},\n",
       "                          'explainer': None,\n",
       "                          'graph': {'children': None,\n",
       "                                    'endpoint': None,\n",
       "                                    'env_secret_ref_name': 'minio-bucket',\n",
       "                                    'implementation': 'MLFLOW_SERVER',\n",
       "                                    'logger': {'mode': 'all', 'url': None},\n",
       "                                    'methods': None,\n",
       "                                    'model_uri': 'minio:wine-model-3/default',\n",
       "                                    'name': 'mlflow-sdk-wine-container',\n",
       "                                    'parameters': None,\n",
       "                                    'service_account_name': None,\n",
       "                                    'storage_initializer_image': None,\n",
       "                                    'type': None},\n",
       "                          'labels': None,\n",
       "                          'name': 'default',\n",
       "                          'replicas': 1,\n",
       "                          'shadow': None,\n",
       "                          'ssl': None,\n",
       "                          'svc_orch_spec': {'env': None,\n",
       "                                            'replicas': None,\n",
       "                                            'resources': None},\n",
       "                          'traffic': None}],\n",
       "          'protocol': 'v2',\n",
       "          'replicas': None,\n",
       "          'server_type': None,\n",
       "          'transport': None},\n",
       " 'status': {'address': None,\n",
       "            'annotations': None,\n",
       "            'conditions': None,\n",
       "            'deployment_status': None,\n",
       "            'description': None,\n",
       "            'observed_generation': None,\n",
       "            'replicas': None,\n",
       "            'service_status': None,\n",
       "            'state': None}}"
      ]
     },
     "execution_count": 3,
     "metadata": {},
     "output_type": "execute_result"
    }
   ],
   "source": [
    "deployment_api = SeldonDeploymentsApi(api_client)\n",
    "deployment_api.create_seldon_deployment(namespace=NAMESPACE, mldeployment=mldeployment)"
   ]
  },
  {
   "cell_type": "markdown",
   "id": "9d8982b8",
   "metadata": {},
   "source": [
    "### 6. Run an inference request"
   ]
  },
  {
   "cell_type": "code",
   "execution_count": 11,
   "id": "f12a8f3a",
   "metadata": {},
   "outputs": [],
   "source": [
    "inference_request = {\n",
    "    \"parameters\": {\n",
    "        \"content_type\": \"pd\"\n",
    "    },\n",
    "    \"inputs\": [\n",
    "        {\n",
    "          \"name\": \"fixed acidity\",\n",
    "          \"shape\": [1],\n",
    "          \"datatype\": \"FP32\",\n",
    "          \"data\": [7.4],\n",
    "          \"parameters\": {\n",
    "              \"content_type\": \"np\"\n",
    "          }\n",
    "        },\n",
    "        {\n",
    "          \"name\": \"volatile acidity\",\n",
    "          \"shape\": [1],\n",
    "          \"datatype\": \"FP32\",\n",
    "          \"data\": [0.7000],\n",
    "          \"parameters\": {\n",
    "              \"content_type\": \"np\"\n",
    "          }\n",
    "        },\n",
    "        {\n",
    "          \"name\": \"citric acidity\",\n",
    "          \"shape\": [1],\n",
    "          \"datatype\": \"FP32\",\n",
    "          \"data\": [0],\n",
    "          \"parameters\": {\n",
    "              \"content_type\": \"np\"\n",
    "          }\n",
    "        },\n",
    "        {\n",
    "          \"name\": \"residual sugar\",\n",
    "          \"shape\": [1],\n",
    "          \"datatype\": \"FP32\",\n",
    "          \"data\": [1.9],\n",
    "          \"parameters\": {\n",
    "              \"content_type\": \"np\"\n",
    "          }\n",
    "        },\n",
    "        {\n",
    "          \"name\": \"chlorides\",\n",
    "          \"shape\": [1],\n",
    "          \"datatype\": \"FP32\",\n",
    "          \"data\": [0.076],\n",
    "          \"parameters\": {\n",
    "              \"content_type\": \"np\"\n",
    "          }\n",
    "        },\n",
    "        {\n",
    "          \"name\": \"free sulfur dioxide\",\n",
    "          \"shape\": [1],\n",
    "          \"datatype\": \"FP32\",\n",
    "          \"data\": [11],\n",
    "          \"parameters\": {\n",
    "              \"content_type\": \"np\"\n",
    "          }\n",
    "        },\n",
    "        {\n",
    "          \"name\": \"total sulfur dioxide\",\n",
    "          \"shape\": [1],\n",
    "          \"datatype\": \"FP32\",\n",
    "          \"data\": [34],\n",
    "          \"parameters\": {\n",
    "              \"content_type\": \"np\"\n",
    "          }\n",
    "        },\n",
    "        {\n",
    "          \"name\": \"density\",\n",
    "          \"shape\": [1],\n",
    "          \"datatype\": \"FP32\",\n",
    "          \"data\": [0.9978],\n",
    "          \"parameters\": {\n",
    "              \"content_type\": \"np\"\n",
    "          }\n",
    "        },\n",
    "        {\n",
    "          \"name\": \"pH\",\n",
    "          \"shape\": [1],\n",
    "          \"datatype\": \"FP32\",\n",
    "          \"data\": [3.51],\n",
    "          \"parameters\": {\n",
    "              \"content_type\": \"np\"\n",
    "          }\n",
    "        },\n",
    "        {\n",
    "          \"name\": \"sulphates\",\n",
    "          \"shape\": [1],\n",
    "          \"datatype\": \"FP32\",\n",
    "          \"data\": [0.56],\n",
    "          \"parameters\": {\n",
    "              \"content_type\": \"np\"\n",
    "          }\n",
    "        },\n",
    "        {\n",
    "          \"name\": \"alcohol\",\n",
    "          \"shape\": [1],\n",
    "          \"datatype\": \"FP32\",\n",
    "          \"data\": [9.4],\n",
    "          \"parameters\": {\n",
    "              \"content_type\": \"np\"\n",
    "          }\n",
    "        },\n",
    "    ]\n",
    "}"
   ]
  },
  {
   "cell_type": "code",
   "execution_count": 14,
   "id": "7977e3b0",
   "metadata": {},
   "outputs": [
    {
     "name": "stdout",
     "output_type": "stream",
     "text": [
      "{'id': '2cd530da-7d41-4a5a-a1df-287281b8c760', 'model_name': 'mlflow-sdk-wine-container', 'model_version': 'v1', 'outputs': [{'data': [5.336543269834809], 'datatype': 'FP64', 'name': 'output-1', 'parameters': None, 'shape': [1]}], 'parameters': {'content_type': None, 'headers': None}}\n"
     ]
    }
   ],
   "source": [
    "import pprint\n",
    "# create an instance of the API class\n",
    "predict_api = PredictApi(api_client)\n",
    "\n",
    "\n",
    "try:\n",
    "    api_response = predict_api.predict_seldon_deployment(DEPLOYMENT_NAME, NAMESPACE, inference_request)\n",
    "    # pprint.pprint(api_response)\n",
    "    print(f\"{api_response}\")\n",
    "except ApiException as e:\n",
    "    print(\"Exception when calling PredictApi --> predict_seldon_deployment: %s\\n\" % e)"
   ]
  },
  {
   "cell_type": "markdown",
   "id": "d871a683",
   "metadata": {},
   "source": [
    "## Explainer"
   ]
  },
  {
   "cell_type": "markdown",
   "id": "f5da52b8",
   "metadata": {},
   "source": [
    "### Load the model from Storage"
   ]
  },
  {
   "cell_type": "code",
   "execution_count": 33,
   "id": "f6b68126",
   "metadata": {},
   "outputs": [
    {
     "data": {
      "text/plain": [
       "<minio.datatypes.Object at 0x7fa32be66730>"
      ]
     },
     "execution_count": 33,
     "metadata": {},
     "output_type": "execute_result"
    }
   ],
   "source": [
    "\n",
    "minioClient.fget_object('wine-model-2', 'default/model.pkl', './tmp/model.pkl')\n"
   ]
  },
  {
   "cell_type": "code",
   "execution_count": 34,
   "id": "53086854",
   "metadata": {},
   "outputs": [],
   "source": [
    "import pickle\n",
    "filename = \"./tmp/model.pkl\"\n",
    "# load the model from disk\n",
    "loaded_model = pickle.load(open(filename, 'rb'))\n"
   ]
  },
  {
   "cell_type": "markdown",
   "id": "230473fc",
   "metadata": {},
   "source": [
    "### Setup Data Set to Train Explainer"
   ]
  },
  {
   "cell_type": "code",
   "execution_count": 35,
   "id": "cd82fc4f",
   "metadata": {},
   "outputs": [],
   "source": [
    "from sklearn.model_selection import train_test_split\n",
    "\n",
    "csv_url =\\\n",
    "    'http://archive.ics.uci.edu/ml/machine-learning-databases/wine-quality/winequality-red.csv'\n",
    "try:\n",
    "    data = pd.read_csv(csv_url, sep=';')\n",
    "except Exception as e:\n",
    "    print(\n",
    "        \"Unable to download training & test CSV, check your internet connection. Error: %s\", e)\n",
    "\n",
    "# Split the data into training and test sets. (0.75, 0.25) split.\n",
    "train, test = train_test_split(data)\n",
    "\n",
    "# The predicted column is \"quality\" which is a scalar from [3, 9]\n",
    "train_x = train.drop([\"quality\"], axis=1)\n",
    "test_x = test.drop([\"quality\"], axis=1)\n",
    "train_y = train[[\"quality\"]]\n",
    "test_y = test[[\"quality\"]]\n"
   ]
  },
  {
   "cell_type": "code",
   "execution_count": 52,
   "id": "11786188",
   "metadata": {},
   "outputs": [],
   "source": [
    "X_train_np = train_x.to_numpy()\n",
    "X_test_np = test_x.to_numpy()"
   ]
  },
  {
   "cell_type": "code",
   "execution_count": 46,
   "id": "a16e7b8e",
   "metadata": {},
   "outputs": [
    {
     "data": {
      "text/plain": [
       "array([5.23428491, 5.31135965, 6.12468065, ..., 6.41227667, 4.79863128,\n",
       "       5.5133657 ])"
      ]
     },
     "execution_count": 46,
     "metadata": {},
     "output_type": "execute_result"
    }
   ],
   "source": [
    "loaded_model.predict(train_x)"
   ]
  },
  {
   "cell_type": "code",
   "execution_count": 39,
   "id": "2e0cb2f8",
   "metadata": {},
   "outputs": [],
   "source": [
    "from alibi.explainers import AnchorTabular"
   ]
  },
  {
   "cell_type": "code",
   "execution_count": 40,
   "id": "2ddc0992",
   "metadata": {},
   "outputs": [],
   "source": [
    "columns = [\"fixed acidity\", \"volatile acidity\", \"citric acidity\", \"residual sugar\", \"chlorides\", \"free sulfur dioxide\", \"total sulfur dioxide\", \"density\", \"pH\", \"sulphates\", \"alcohol\"]"
   ]
  },
  {
   "cell_type": "code",
   "execution_count": 49,
   "id": "8042183a",
   "metadata": {},
   "outputs": [],
   "source": [
    "predict_fn = lambda x: loaded_model.predict(x)\n",
    "explainer = AnchorTabular(predict_fn, columns)\n"
   ]
  },
  {
   "cell_type": "code",
   "execution_count": 50,
   "id": "4cafd8d4",
   "metadata": {},
   "outputs": [
    {
     "data": {
      "text/plain": [
       "AnchorTabular(meta={\n",
       "  'name': 'AnchorTabular',\n",
       "  'type': ['blackbox'],\n",
       "  'explanations': ['local'],\n",
       "  'params': {'seed': None, 'disc_perc': (25, 50, 75)},\n",
       "  'version': '0.7.0'}\n",
       ")"
      ]
     },
     "execution_count": 50,
     "metadata": {},
     "output_type": "execute_result"
    }
   ],
   "source": [
    "explainer.fit(X_train_np, disc_perc=(25, 50, 75))"
   ]
  },
  {
   "cell_type": "code",
   "execution_count": 54,
   "id": "1cb39595",
   "metadata": {},
   "outputs": [
    {
     "name": "stderr",
     "output_type": "stream",
     "text": [
      "WARNING:alibi.explainers.anchors.anchor_base:Could not find an result satisfying the 0.9 precision constraint. Now returning the best non-eligible result.\n"
     ]
    },
    {
     "name": "stdout",
     "output_type": "stream",
     "text": [
      "Anchor: 9.50 < alcohol <= 10.20 AND 0.39 < volatile acidity <= 0.51 AND 14.00 < free sulfur dioxide <= 21.00 AND 38.00 < total sulfur dioxide <= 63.00 AND 2.20 < residual sugar <= 2.60 AND 1.00 < density <= 1.00 AND 0.62 < sulphates <= 0.73 AND pH > 3.40 AND fixed acidity <= 7.10 AND 0.08 < chlorides <= 0.09 AND 0.09 < citric acidity <= 0.26\n",
      "Precision: 0.00\n",
      "Coverage: 0.00\n"
     ]
    }
   ],
   "source": [
    "explanation = explainer.explain(X_test_np[3], threshold=0.9)\n",
    "print('Anchor: %s' % (' AND '.join(explanation.anchor)))\n",
    "print('Precision: %.2f' % explanation.precision)\n",
    "print('Coverage: %.2f' % explanation.coverage)"
   ]
  },
  {
   "cell_type": "code",
   "execution_count": 55,
   "id": "c7884d71",
   "metadata": {},
   "outputs": [],
   "source": [
    "explainer.save(\"./tmp/explainer\")"
   ]
  },
  {
   "cell_type": "code",
   "execution_count": 57,
   "id": "7447cca0",
   "metadata": {},
   "outputs": [],
   "source": [
    "upload_local_directory_to_minio(f\"tmp/explainer\", f\"wine-model-2\", \"explainer\")"
   ]
  },
  {
   "cell_type": "code",
   "execution_count": null,
   "id": "e6695cef",
   "metadata": {},
   "outputs": [],
   "source": []
  }
 ],
 "metadata": {
  "kernelspec": {
   "display_name": "tmp-wine",
   "language": "python",
   "name": "python3"
  },
  "language_info": {
   "codemirror_mode": {
    "name": "ipython",
    "version": 3
   },
   "file_extension": ".py",
   "mimetype": "text/x-python",
   "name": "python",
   "nbconvert_exporter": "python",
   "pygments_lexer": "ipython3",
   "version": "3.8.13 (default, Mar 28 2022, 06:16:26) \n[Clang 12.0.0 ]"
  },
  "vscode": {
   "interpreter": {
    "hash": "6c61a94ef80df30edeab33a50faece201aaada47868665c37f02a84b5d984383"
   }
  }
 },
 "nbformat": 4,
 "nbformat_minor": 5
}
